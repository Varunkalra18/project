{
 "cells": [
  {
   "cell_type": "code",
   "execution_count": 3,
   "metadata": {},
   "outputs": [
    {
     "name": "stdout",
     "output_type": "stream",
     "text": [
      "todays_timestamp :  2021-05-03 19:27:38.381972\n",
      "2021-05-05 19:27:38.381972\n"
     ]
    }
   ],
   "source": [
    "import datetime\n",
    "todays_timestamp = datetime.datetime.now()\n",
    "print('todays_timestamp : ', todays_timestamp)\n",
    "b = todays_timestamp + datetime.timedelta(0,48*3600)\n",
    "print(b)\n",
    "if todays_timestamp > b : \n",
    "    print(\"You are in today\")\n",
    "else : \n",
    "    print('You are living in future')"
   ]
  },
  {
   "cell_type": "code",
   "execution_count": 11,
   "metadata": {},
   "outputs": [
    {
     "name": "stdout",
     "output_type": "stream",
     "text": [
      "<class 'datetime.datetime'>\n"
     ]
    }
   ],
   "source": [
    "# 2021-05-03 19:22:43\n",
    "\n",
    "datetimeObj = datetime.datetime.strptime('2021-05-03 19:22:43', \"%Y-%m-%d %H:%M:%S\")\n",
    "print(date)"
   ]
  },
  {
   "cell_type": "code",
   "execution_count": null,
   "metadata": {},
   "outputs": [],
   "source": []
  }
 ],
 "metadata": {
  "kernelspec": {
   "display_name": "Python 3",
   "language": "python",
   "name": "python3"
  },
  "language_info": {
   "codemirror_mode": {
    "name": "ipython",
    "version": 3
   },
   "file_extension": ".py",
   "mimetype": "text/x-python",
   "name": "python",
   "nbconvert_exporter": "python",
   "pygments_lexer": "ipython3",
   "version": "3.7.6"
  }
 },
 "nbformat": 4,
 "nbformat_minor": 4
}
